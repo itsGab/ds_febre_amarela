{
  "nbformat": 4,
  "nbformat_minor": 0,
  "metadata": {
    "colab": {
      "name": "projeto_modulo2_rascunho.ipynb",
      "provenance": [],
      "collapsed_sections": [
        "xlI2F0xG2zXc",
        "A8gRtbzP23Ss",
        "eHzl2dri6iCZ"
      ],
      "authorship_tag": "ABX9TyOXQXikx3jAE7d0fBM01dBu",
      "include_colab_link": true
    },
    "kernelspec": {
      "name": "python3",
      "display_name": "Python 3"
    },
    "language_info": {
      "name": "python"
    }
  },
  "cells": [
    {
      "cell_type": "markdown",
      "metadata": {
        "id": "view-in-github",
        "colab_type": "text"
      },
      "source": [
        "<a href=\"https://colab.research.google.com/github/itsGab/projeto-bootcamp-modulo-2-data-science/blob/main/bn-projeto/projeto_modulo2_rascunho.ipynb\" target=\"_parent\"><img src=\"https://colab.research.google.com/assets/colab-badge.svg\" alt=\"Open In Colab\"/></a>"
      ]
    },
    {
      "cell_type": "markdown",
      "metadata": {
        "id": "_Yx2Wm4gCpuj"
      },
      "source": [
        "<h1 align='center'> 👷 🚧 PROJETO EM CONSTRUCAO 🚧 </h1>\n"
      ]
    },
    {
      "cell_type": "markdown",
      "metadata": {
        "id": "5awWtfB4uxMt"
      },
      "source": [
        "# PROJETO MODULO 2\n",
        "\n",
        "---\n",
        "#### BOOTCAMP DE DATA SCIENCE APLICADA 2 DA ALURA"
      ]
    },
    {
      "cell_type": "markdown",
      "metadata": {
        "id": "G8CxVuZxqNFy"
      },
      "source": [
        "# Explicação\n"
      ]
    },
    {
      "cell_type": "markdown",
      "metadata": {
        "id": "m5liZGp7Cy02"
      },
      "source": [
        ">Boas vindas ao Projeto do Módulo 02! Neste projeto queremos que você aplique tudo que aprendeu no módulo 1 e 2, analisando dados do programa de imunização nacional, você pode analisar dados de imunos escolhidos por você, pode analisar toda a base de dados, apenas do seu estado ou de estados específicos. Pode analisar as taxas, a cobertura ou as doses calculadas. Ademais, você pode buscar outras fontes de informações fora do DataSUS e usar outros dados do DataSUS para enriquecer suas análises.<br><br>\n",
        "Seguem algumas dicas para você mandar bem no desafio final do módulo: capriche nas análises, escreva suas conclusões e hipóteses (mesmo que o resultado seja inconclusivo) e não esqueça de colocar um resumo dos pontos que julgar mais interessantes do seu projeto.<br><br>\n",
        "Temos um conjunto de dicas para este projeto. Portanto, fique de boa, use elas como um guia para a construção da sua pesquisa e mergulhe fundo!<br><br>\n",
        "São boas práticas de projeto:<br><br>\n",
        "* Delimitar o escopo do projeto de acordo com o tempo e o aprendizado desse módulo;\n",
        "* Utilizar a base de dados sugerida;\n",
        "* Estruturar o projeto de maneira organizada e lógica;\n",
        "* Criar um notebook que tenha um enredo atraente e coerente;\n",
        "* Tratar e descrever seus dados quando necessário;\n",
        "* Fundamentar bem o cruzamento dos dados (se você utilizar outras bases);\n",
        "* Aplicar as técnicas de configurações de gráficos para torná-los compreensíveis e para criar argumentações embasadas neles;\n",
        "* Se possível, fazer pesquisas para ir além do apresentado no módulo;\n",
        "* Fazer uma conclusão que relate as limitações do projeto, dando ideias para projetos futuros e apresentando os principais resultados da análise;\n",
        "* Citar e trazer as fontes de todo o conteúdo que apresentar e não for de sua autoria.<br><br>\n",
        "\n",
        "---"
      ]
    },
    {
      "cell_type": "markdown",
      "metadata": {
        "id": "3cbpYQDyphGD"
      },
      "source": [
        "# Execução"
      ]
    },
    {
      "cell_type": "markdown",
      "metadata": {
        "id": "sx6oVNX39seO"
      },
      "source": [
        "<h3 align='center'>PROJETO - MODULO 2</h3>\n",
        "\n",
        "---\n",
        "<h4 align='center'>ANALISE DA COBERTURA DE VACINACAO CONTRA A FEBRE AMARELA DE 2008 A 2018</h4>\n",
        "\n",
        "---"
      ]
    },
    {
      "cell_type": "markdown",
      "metadata": {
        "id": "xlI2F0xG2zXc"
      },
      "source": [
        "## REFERENCIAL - *mover para o fim!*"
      ]
    },
    {
      "cell_type": "markdown",
      "metadata": {
        "id": "FCMdw7Evhcv6"
      },
      "source": [
        "Imunizações - desde 1994 - [TABNET](http://www2.datasus.gov.br/DATASUS/index.php?area=0202&id=11637)\n",
        "> Pegar (febre amarela):\n",
        "* Cobertura\n",
        "\n",
        "---\n",
        "\n",
        "Epidemiológicas e Morbidade - [TABNET](http://www2.datasus.gov.br/DATASUS/index.php?area=0203)\n",
        "> Em \"Doenças e Agravos de Notificação\" pegar (febre amarela):\n",
        "* 2007 em diante\n",
        "* 2001 a 2006\n",
        "\n",
        "---\n",
        "\n",
        "Morbidade Hospitalar do SUS (SIH/SUS) - [TABNET](http://www2.datasus.gov.br/DATASUS/index.php?area=0203&id=6926)\n",
        "> Pegar (febre amarela):\n",
        "* Internacoes\n",
        "\n",
        "---\n",
        "\n",
        "População Residente - Estimativas para o TCU - Brasil - [TABNET](http://tabnet.datasus.gov.br/cgi/deftohtm.exe?ibge/cnv/poptuf.def)\n",
        "> Pegar:\n",
        "* Estimativas populacionais\n",
        "\n",
        "\n",
        "---\n",
        "\n",
        "> *Referências sobre febre amarela:*\n",
        "<br>[Materia sobre ampliacao do publico alvo](http://bvsms.saude.gov.br/ultimas-noticias/3089-em-2020-ministerio-da-saude-amplia-publico-para-vacinas-contra-febre-amarela-e-gripe)\n",
        "<br>[Públicos-alvo de vacinas contra gripe e febre amarela serão ampliados](https://www.fiotec.fiocruz.br/noticias/outros/6966-publicos-alvo-de-vacinas-contra-gripe-e-febre-amarela-serao-ampliados-em-2020)\n",
        "<br>[Febre amarela - Secretaria da Saúde PR](https://www.saude.pr.gov.br/Pagina/Febre-amarela)\n",
        "<br>[Febre amarela alerta sul e sudeste - Ministério da Saúde](https://www.gov.br/saude/pt-br/assuntos/noticias/ministerio-da-saude-alerta-sul-e-sudeste-sobre-febre-amarela)"
      ]
    },
    {
      "cell_type": "markdown",
      "metadata": {
        "id": "A8gRtbzP23Ss"
      },
      "source": [
        "## INTRODUÇÃO"
      ]
    },
    {
      "cell_type": "markdown",
      "metadata": {
        "id": "nEdjuZKOBO0K"
      },
      "source": [
        "*Comparar a **taxa de cobertura** da vacinacao com o numero de **casos registrados** e/ou com o **numero de internacoes** por febre amarela! Comparar anos de maior coberto se houve infeccao menor percentualmente em **relacao a populacao** do estado.*"
      ]
    },
    {
      "cell_type": "markdown",
      "metadata": {
        "id": "XgupmPDT6ZGn"
      },
      "source": [
        "### FEBRE AMARELA\n",
        "\n",
        "A **febra amarela** é uma doença infecciosa febril aguda, causada por um vírus transmitido por mosquitos.\n",
        "Seus principais ciclos de tramissão são: \n",
        "\n",
        "* O **silvestre**, transmitida em áreas rural e de floresta do macaco para o humano através do mosquito.\n",
        "\n",
        "* O **urbano**, transmitida em áreas urbanas pelo mosquito Aedes aegypti através da picada.\n",
        "\n",
        "---\n",
        "O último caso de febre amarela **urbana** foi registrado no Brasil em 1942 e todos os casos confirmados desde então decorrem do ciclo silvestre de transmissão.\n",
        "\n",
        "---\n",
        "Atualmente, a febre amarela **silvestre** (FA) é uma doença endêmica no Brasil (região amazônica). Na região extra-amazônica, períodos epidêmicos são registrados ocasionalmente, caracterizando a reemergência do vírus no País.\n",
        "\n",
        "---\n",
        "**Prevenção:**\n",
        "\n",
        "A **vacina** é a principal ferramenta de prevenção e controle da febre amarela. O Sistema Único de Saúde (SUS) oferta vacina contra febre amarela para a população. Desde abril de 2017, o Brasil adota o esquema vacinal de apenas uma dose durante toda a vida, medida que está de acordo com as recomendações da Organização Mundial de Saúde (OMS).\n",
        "\n",
        "Toda pessoa que reside em **Áreas com Recomendação da Vacina** contra febre amarela e pessoas que vão viajar para essas áreas deve se imunizar.\n",
        "\n",
        "---\n",
        "O **público-alvo** para vacinação são pessoas a partir de nove meses de vida e 59 anos de idade que não tenham comprovação de vacinação\n",
        "\n",
        "---\n",
        "> Fontes:<br>[Secretaria da Saúde PR](https://www.saude.pr.gov.br/Pagina/Febre-amarela)<br>[Ministério da Saúde](https://www.gov.br/saude/pt-br/assuntos/noticias/ministerio-da-saude-alerta-sul-e-sudeste-sobre-febre-amarela)\n",
        "\n"
      ]
    },
    {
      "cell_type": "markdown",
      "metadata": {
        "id": "eHzl2dri6iCZ"
      },
      "source": [
        "## PREPARAÇÃO DOS DADOS\n"
      ]
    },
    {
      "cell_type": "markdown",
      "metadata": {
        "id": "E6ji7PAb3Lgv"
      },
      "source": [
        "Os dados brutos foram previamente tratados.\n",
        "\n",
        "\n",
        "Para tratamento dos dados eu decidi deixar todos o **textos** com letra minuscula e sem acentos, \n",
        "\n",
        "Usei a formatacao de **datas** para datetime, mas devido a minha falta de proeficiencia, resolvi tratar os anos apenas como numeral\n",
        "\n",
        "\n",
        ">Links para acesso:\n",
        "* [Notebooks de tratamento](https://github.com/itsGab/projeto-bootcamp-modulo-2-data-science/tree/main/nb-limpeza-dados)\n",
        "* [Dados brutos](https://github.com/itsGab/projeto-bootcamp-modulo-2-data-science/tree/main/dados-brutos)\n",
        "* [Dados tratados](https://github.com/itsGab/projeto-bootcamp-modulo-2-data-science/tree/main/dados-limpos)"
      ]
    },
    {
      "cell_type": "code",
      "metadata": {
        "id": "9gzIF02VwT5K"
      },
      "source": [
        "import pandas as pd\n",
        "import matplotlib.pyplot as plt\n",
        "import matplotlib.pyplot as plt\n",
        "import numpy\n",
        "import seaborn as sns"
      ],
      "execution_count": 1,
      "outputs": []
    },
    {
      "cell_type": "code",
      "metadata": {
        "id": "nXePRlUWXj_0"
      },
      "source": [
        "# mapa para alterar o ano\n",
        "def para_ano(data_in):\n",
        "    ano = int(data_in[:4])\n",
        "    return ano"
      ],
      "execution_count": 2,
      "outputs": []
    },
    {
      "cell_type": "code",
      "metadata": {
        "id": "r_Y6E6rCpkv0"
      },
      "source": [
        "# lista de ufs\n",
        "lista_uf = ['ro', 'ac', 'am', 'rr', 'pa', 'ap', 'to', 'ma', 'pi', 'ce', 'rn', \n",
        "            'pb', 'pe', 'al', 'se', 'ba', 'mg', 'es', 'rj', 'sp', 'pr', 'sc', \n",
        "            'rs', 'ms', 'mt', 'go', 'df']"
      ],
      "execution_count": 3,
      "outputs": []
    },
    {
      "cell_type": "markdown",
      "metadata": {
        "id": "SSc0gYfADhnt"
      },
      "source": [
        "**Cobertura vacinal** de febre amarela (1994 - 2021, por ano de processamento)\n"
      ]
    },
    {
      "cell_type": "code",
      "metadata": {
        "id": "HGeGPxNboUZb"
      },
      "source": [
        "# cobertura vacinal de febre amarela\n",
        "# periodo: 1994 - 2021 (por ano de processamento)\n",
        "dados_cobertura_vacinal = 'https://github.com/itsGab/projeto-bootcamp-modulo-2-data-science/raw/main/dados-limpos/cobertura_vacinal_pivot.csv'\n",
        "vacinal = pd.read_csv(dados_cobertura_vacinal, index_col=0)"
      ],
      "execution_count": 4,
      "outputs": []
    },
    {
      "cell_type": "code",
      "metadata": {
        "id": "8PUgHjFEovTg",
        "colab": {
          "base_uri": "https://localhost:8080/",
          "height": 238
        },
        "outputId": "890b8e01-96e7-415d-d47b-c2b1fbef9695"
      },
      "source": [
        "vacinal['ano'] = vacinal['ano'].map(para_ano)\n",
        "vacinal.set_index('ano', inplace=True)\n",
        "vacinal.head()"
      ],
      "execution_count": 5,
      "outputs": [
        {
          "output_type": "execute_result",
          "data": {
            "text/html": [
              "<div>\n",
              "<style scoped>\n",
              "    .dataframe tbody tr th:only-of-type {\n",
              "        vertical-align: middle;\n",
              "    }\n",
              "\n",
              "    .dataframe tbody tr th {\n",
              "        vertical-align: top;\n",
              "    }\n",
              "\n",
              "    .dataframe thead th {\n",
              "        text-align: right;\n",
              "    }\n",
              "</style>\n",
              "<table border=\"1\" class=\"dataframe\">\n",
              "  <thead>\n",
              "    <tr style=\"text-align: right;\">\n",
              "      <th></th>\n",
              "      <th>ro</th>\n",
              "      <th>ac</th>\n",
              "      <th>am</th>\n",
              "      <th>rr</th>\n",
              "      <th>pa</th>\n",
              "      <th>ap</th>\n",
              "      <th>to</th>\n",
              "      <th>ma</th>\n",
              "      <th>pi</th>\n",
              "      <th>ce</th>\n",
              "      <th>rn</th>\n",
              "      <th>pb</th>\n",
              "      <th>pe</th>\n",
              "      <th>al</th>\n",
              "      <th>se</th>\n",
              "      <th>ba</th>\n",
              "      <th>mg</th>\n",
              "      <th>es</th>\n",
              "      <th>rj</th>\n",
              "      <th>sp</th>\n",
              "      <th>pr</th>\n",
              "      <th>sc</th>\n",
              "      <th>rs</th>\n",
              "      <th>ms</th>\n",
              "      <th>mt</th>\n",
              "      <th>go</th>\n",
              "      <th>df</th>\n",
              "    </tr>\n",
              "    <tr>\n",
              "      <th>ano</th>\n",
              "      <th></th>\n",
              "      <th></th>\n",
              "      <th></th>\n",
              "      <th></th>\n",
              "      <th></th>\n",
              "      <th></th>\n",
              "      <th></th>\n",
              "      <th></th>\n",
              "      <th></th>\n",
              "      <th></th>\n",
              "      <th></th>\n",
              "      <th></th>\n",
              "      <th></th>\n",
              "      <th></th>\n",
              "      <th></th>\n",
              "      <th></th>\n",
              "      <th></th>\n",
              "      <th></th>\n",
              "      <th></th>\n",
              "      <th></th>\n",
              "      <th></th>\n",
              "      <th></th>\n",
              "      <th></th>\n",
              "      <th></th>\n",
              "      <th></th>\n",
              "      <th></th>\n",
              "      <th></th>\n",
              "    </tr>\n",
              "  </thead>\n",
              "  <tbody>\n",
              "    <tr>\n",
              "      <th>1994</th>\n",
              "      <td>8.29</td>\n",
              "      <td>0.00</td>\n",
              "      <td>7.55</td>\n",
              "      <td>3.70</td>\n",
              "      <td>5.36</td>\n",
              "      <td>0.00</td>\n",
              "      <td>0.00</td>\n",
              "      <td>33.62</td>\n",
              "      <td>0.01</td>\n",
              "      <td>0.00</td>\n",
              "      <td>0.00</td>\n",
              "      <td>0.00</td>\n",
              "      <td>0.00</td>\n",
              "      <td>0.00</td>\n",
              "      <td>0.00</td>\n",
              "      <td>0.00</td>\n",
              "      <td>0.00</td>\n",
              "      <td>0.00</td>\n",
              "      <td>0.00</td>\n",
              "      <td>0.00</td>\n",
              "      <td>0.00</td>\n",
              "      <td>0.12</td>\n",
              "      <td>0.00</td>\n",
              "      <td>0.00</td>\n",
              "      <td>5.70</td>\n",
              "      <td>2.21</td>\n",
              "      <td>0.00</td>\n",
              "    </tr>\n",
              "    <tr>\n",
              "      <th>1995</th>\n",
              "      <td>49.44</td>\n",
              "      <td>63.59</td>\n",
              "      <td>16.68</td>\n",
              "      <td>33.29</td>\n",
              "      <td>12.84</td>\n",
              "      <td>0.04</td>\n",
              "      <td>0.00</td>\n",
              "      <td>41.82</td>\n",
              "      <td>0.17</td>\n",
              "      <td>0.00</td>\n",
              "      <td>0.00</td>\n",
              "      <td>0.00</td>\n",
              "      <td>0.00</td>\n",
              "      <td>0.00</td>\n",
              "      <td>0.00</td>\n",
              "      <td>0.00</td>\n",
              "      <td>0.00</td>\n",
              "      <td>0.02</td>\n",
              "      <td>0.00</td>\n",
              "      <td>0.00</td>\n",
              "      <td>0.07</td>\n",
              "      <td>0.00</td>\n",
              "      <td>0.00</td>\n",
              "      <td>0.00</td>\n",
              "      <td>18.66</td>\n",
              "      <td>10.10</td>\n",
              "      <td>0.00</td>\n",
              "    </tr>\n",
              "    <tr>\n",
              "      <th>1996</th>\n",
              "      <td>66.06</td>\n",
              "      <td>30.00</td>\n",
              "      <td>69.11</td>\n",
              "      <td>46.30</td>\n",
              "      <td>17.94</td>\n",
              "      <td>4.42</td>\n",
              "      <td>25.53</td>\n",
              "      <td>10.81</td>\n",
              "      <td>1.15</td>\n",
              "      <td>0.00</td>\n",
              "      <td>0.00</td>\n",
              "      <td>0.00</td>\n",
              "      <td>0.00</td>\n",
              "      <td>0.00</td>\n",
              "      <td>0.00</td>\n",
              "      <td>0.00</td>\n",
              "      <td>0.00</td>\n",
              "      <td>0.00</td>\n",
              "      <td>0.08</td>\n",
              "      <td>0.00</td>\n",
              "      <td>0.02</td>\n",
              "      <td>0.01</td>\n",
              "      <td>0.00</td>\n",
              "      <td>34.01</td>\n",
              "      <td>18.02</td>\n",
              "      <td>21.46</td>\n",
              "      <td>0.92</td>\n",
              "    </tr>\n",
              "    <tr>\n",
              "      <th>1997</th>\n",
              "      <td>97.43</td>\n",
              "      <td>85.83</td>\n",
              "      <td>74.31</td>\n",
              "      <td>53.11</td>\n",
              "      <td>29.26</td>\n",
              "      <td>10.54</td>\n",
              "      <td>60.35</td>\n",
              "      <td>18.40</td>\n",
              "      <td>0.69</td>\n",
              "      <td>0.00</td>\n",
              "      <td>0.49</td>\n",
              "      <td>0.00</td>\n",
              "      <td>0.07</td>\n",
              "      <td>0.11</td>\n",
              "      <td>0.00</td>\n",
              "      <td>0.03</td>\n",
              "      <td>0.29</td>\n",
              "      <td>2.32</td>\n",
              "      <td>0.06</td>\n",
              "      <td>0.00</td>\n",
              "      <td>0.27</td>\n",
              "      <td>0.03</td>\n",
              "      <td>0.02</td>\n",
              "      <td>51.61</td>\n",
              "      <td>29.89</td>\n",
              "      <td>31.83</td>\n",
              "      <td>4.02</td>\n",
              "    </tr>\n",
              "    <tr>\n",
              "      <th>1998</th>\n",
              "      <td>115.31</td>\n",
              "      <td>73.51</td>\n",
              "      <td>108.21</td>\n",
              "      <td>112.89</td>\n",
              "      <td>80.62</td>\n",
              "      <td>93.36</td>\n",
              "      <td>87.81</td>\n",
              "      <td>76.33</td>\n",
              "      <td>1.27</td>\n",
              "      <td>0.63</td>\n",
              "      <td>0.49</td>\n",
              "      <td>0.12</td>\n",
              "      <td>0.18</td>\n",
              "      <td>0.01</td>\n",
              "      <td>0.02</td>\n",
              "      <td>0.83</td>\n",
              "      <td>14.57</td>\n",
              "      <td>0.03</td>\n",
              "      <td>0.03</td>\n",
              "      <td>5.25</td>\n",
              "      <td>0.03</td>\n",
              "      <td>0.21</td>\n",
              "      <td>0.51</td>\n",
              "      <td>70.34</td>\n",
              "      <td>70.74</td>\n",
              "      <td>59.51</td>\n",
              "      <td>3.46</td>\n",
              "    </tr>\n",
              "  </tbody>\n",
              "</table>\n",
              "</div>"
            ],
            "text/plain": [
              "          ro     ac      am      rr     pa  ...    rs     ms     mt     go    df\n",
              "ano                                         ...                                 \n",
              "1994    8.29   0.00    7.55    3.70   5.36  ...  0.00   0.00   5.70   2.21  0.00\n",
              "1995   49.44  63.59   16.68   33.29  12.84  ...  0.00   0.00  18.66  10.10  0.00\n",
              "1996   66.06  30.00   69.11   46.30  17.94  ...  0.00  34.01  18.02  21.46  0.92\n",
              "1997   97.43  85.83   74.31   53.11  29.26  ...  0.02  51.61  29.89  31.83  4.02\n",
              "1998  115.31  73.51  108.21  112.89  80.62  ...  0.51  70.34  70.74  59.51  3.46\n",
              "\n",
              "[5 rows x 27 columns]"
            ]
          },
          "metadata": {
            "tags": []
          },
          "execution_count": 5
        }
      ]
    },
    {
      "cell_type": "markdown",
      "metadata": {
        "id": "ySiD3BbgEZtQ"
      },
      "source": [
        "**Casos** de febre amarela (2001 - 2016, por ano de processamento)"
      ]
    },
    {
      "cell_type": "code",
      "metadata": {
        "id": "7QzZPrxfwXs2"
      },
      "source": [
        "# casos de febre amarela\n",
        "# periodo: 2001 - 2016 (por ano de processamento)\n",
        "dados_casos_fa = 'https://github.com/itsGab/projeto-bootcamp-modulo-2-data-science/raw/main/dados-limpos/casos_fa_pivot.csv'\n",
        "casos = pd.read_csv(dados_casos_fa, index_col=0)"
      ],
      "execution_count": 6,
      "outputs": []
    },
    {
      "cell_type": "code",
      "metadata": {
        "colab": {
          "base_uri": "https://localhost:8080/",
          "height": 238
        },
        "id": "g9LeV3Bn1ugE",
        "outputId": "82ee2388-14d7-457b-f6af-1ba2da016623"
      },
      "source": [
        "casos['ano'] = casos['ano'].map(para_ano)\n",
        "casos.set_index('ano', inplace=True)\n",
        "casos.head()"
      ],
      "execution_count": 7,
      "outputs": [
        {
          "output_type": "execute_result",
          "data": {
            "text/html": [
              "<div>\n",
              "<style scoped>\n",
              "    .dataframe tbody tr th:only-of-type {\n",
              "        vertical-align: middle;\n",
              "    }\n",
              "\n",
              "    .dataframe tbody tr th {\n",
              "        vertical-align: top;\n",
              "    }\n",
              "\n",
              "    .dataframe thead th {\n",
              "        text-align: right;\n",
              "    }\n",
              "</style>\n",
              "<table border=\"1\" class=\"dataframe\">\n",
              "  <thead>\n",
              "    <tr style=\"text-align: right;\">\n",
              "      <th></th>\n",
              "      <th>ro</th>\n",
              "      <th>ac</th>\n",
              "      <th>am</th>\n",
              "      <th>rr</th>\n",
              "      <th>pa</th>\n",
              "      <th>ap</th>\n",
              "      <th>to</th>\n",
              "      <th>ma</th>\n",
              "      <th>pi</th>\n",
              "      <th>ce</th>\n",
              "      <th>rn</th>\n",
              "      <th>pb</th>\n",
              "      <th>pe</th>\n",
              "      <th>al</th>\n",
              "      <th>se</th>\n",
              "      <th>ba</th>\n",
              "      <th>mg</th>\n",
              "      <th>es</th>\n",
              "      <th>rj</th>\n",
              "      <th>sp</th>\n",
              "      <th>pr</th>\n",
              "      <th>sc</th>\n",
              "      <th>rs</th>\n",
              "      <th>ms</th>\n",
              "      <th>mt</th>\n",
              "      <th>go</th>\n",
              "      <th>df</th>\n",
              "    </tr>\n",
              "    <tr>\n",
              "      <th>ano</th>\n",
              "      <th></th>\n",
              "      <th></th>\n",
              "      <th></th>\n",
              "      <th></th>\n",
              "      <th></th>\n",
              "      <th></th>\n",
              "      <th></th>\n",
              "      <th></th>\n",
              "      <th></th>\n",
              "      <th></th>\n",
              "      <th></th>\n",
              "      <th></th>\n",
              "      <th></th>\n",
              "      <th></th>\n",
              "      <th></th>\n",
              "      <th></th>\n",
              "      <th></th>\n",
              "      <th></th>\n",
              "      <th></th>\n",
              "      <th></th>\n",
              "      <th></th>\n",
              "      <th></th>\n",
              "      <th></th>\n",
              "      <th></th>\n",
              "      <th></th>\n",
              "      <th></th>\n",
              "      <th></th>\n",
              "    </tr>\n",
              "  </thead>\n",
              "  <tbody>\n",
              "    <tr>\n",
              "      <th>2001</th>\n",
              "      <td>1</td>\n",
              "      <td>0</td>\n",
              "      <td>4</td>\n",
              "      <td>1</td>\n",
              "      <td>3</td>\n",
              "      <td>0</td>\n",
              "      <td>0</td>\n",
              "      <td>0</td>\n",
              "      <td>0</td>\n",
              "      <td>0</td>\n",
              "      <td>0</td>\n",
              "      <td>0</td>\n",
              "      <td>0</td>\n",
              "      <td>0</td>\n",
              "      <td>0</td>\n",
              "      <td>0</td>\n",
              "      <td>26</td>\n",
              "      <td>0</td>\n",
              "      <td>0</td>\n",
              "      <td>0</td>\n",
              "      <td>0</td>\n",
              "      <td>0</td>\n",
              "      <td>0</td>\n",
              "      <td>0</td>\n",
              "      <td>0</td>\n",
              "      <td>0</td>\n",
              "      <td>0</td>\n",
              "    </tr>\n",
              "    <tr>\n",
              "      <th>2002</th>\n",
              "      <td>0</td>\n",
              "      <td>0</td>\n",
              "      <td>3</td>\n",
              "      <td>1</td>\n",
              "      <td>0</td>\n",
              "      <td>1</td>\n",
              "      <td>0</td>\n",
              "      <td>0</td>\n",
              "      <td>0</td>\n",
              "      <td>0</td>\n",
              "      <td>0</td>\n",
              "      <td>0</td>\n",
              "      <td>0</td>\n",
              "      <td>0</td>\n",
              "      <td>0</td>\n",
              "      <td>0</td>\n",
              "      <td>6</td>\n",
              "      <td>0</td>\n",
              "      <td>0</td>\n",
              "      <td>0</td>\n",
              "      <td>0</td>\n",
              "      <td>0</td>\n",
              "      <td>0</td>\n",
              "      <td>0</td>\n",
              "      <td>0</td>\n",
              "      <td>0</td>\n",
              "      <td>0</td>\n",
              "    </tr>\n",
              "    <tr>\n",
              "      <th>2003</th>\n",
              "      <td>0</td>\n",
              "      <td>0</td>\n",
              "      <td>0</td>\n",
              "      <td>0</td>\n",
              "      <td>0</td>\n",
              "      <td>1</td>\n",
              "      <td>0</td>\n",
              "      <td>0</td>\n",
              "      <td>0</td>\n",
              "      <td>0</td>\n",
              "      <td>0</td>\n",
              "      <td>0</td>\n",
              "      <td>0</td>\n",
              "      <td>0</td>\n",
              "      <td>0</td>\n",
              "      <td>0</td>\n",
              "      <td>47</td>\n",
              "      <td>0</td>\n",
              "      <td>0</td>\n",
              "      <td>0</td>\n",
              "      <td>0</td>\n",
              "      <td>0</td>\n",
              "      <td>0</td>\n",
              "      <td>0</td>\n",
              "      <td>4</td>\n",
              "      <td>0</td>\n",
              "      <td>0</td>\n",
              "    </tr>\n",
              "    <tr>\n",
              "      <th>2004</th>\n",
              "      <td>0</td>\n",
              "      <td>0</td>\n",
              "      <td>2</td>\n",
              "      <td>0</td>\n",
              "      <td>1</td>\n",
              "      <td>0</td>\n",
              "      <td>0</td>\n",
              "      <td>0</td>\n",
              "      <td>0</td>\n",
              "      <td>0</td>\n",
              "      <td>0</td>\n",
              "      <td>0</td>\n",
              "      <td>0</td>\n",
              "      <td>0</td>\n",
              "      <td>0</td>\n",
              "      <td>0</td>\n",
              "      <td>0</td>\n",
              "      <td>0</td>\n",
              "      <td>0</td>\n",
              "      <td>1</td>\n",
              "      <td>0</td>\n",
              "      <td>0</td>\n",
              "      <td>0</td>\n",
              "      <td>0</td>\n",
              "      <td>0</td>\n",
              "      <td>0</td>\n",
              "      <td>0</td>\n",
              "    </tr>\n",
              "    <tr>\n",
              "      <th>2005</th>\n",
              "      <td>0</td>\n",
              "      <td>0</td>\n",
              "      <td>3</td>\n",
              "      <td>1</td>\n",
              "      <td>0</td>\n",
              "      <td>0</td>\n",
              "      <td>0</td>\n",
              "      <td>0</td>\n",
              "      <td>0</td>\n",
              "      <td>0</td>\n",
              "      <td>0</td>\n",
              "      <td>0</td>\n",
              "      <td>0</td>\n",
              "      <td>0</td>\n",
              "      <td>0</td>\n",
              "      <td>0</td>\n",
              "      <td>1</td>\n",
              "      <td>0</td>\n",
              "      <td>0</td>\n",
              "      <td>0</td>\n",
              "      <td>0</td>\n",
              "      <td>0</td>\n",
              "      <td>0</td>\n",
              "      <td>0</td>\n",
              "      <td>0</td>\n",
              "      <td>0</td>\n",
              "      <td>0</td>\n",
              "    </tr>\n",
              "  </tbody>\n",
              "</table>\n",
              "</div>"
            ],
            "text/plain": [
              "      ro  ac  am  rr  pa  ap  to  ma  pi  ...  rj  sp  pr  sc  rs  ms  mt  go  df\n",
              "ano                                       ...                                    \n",
              "2001   1   0   4   1   3   0   0   0   0  ...   0   0   0   0   0   0   0   0   0\n",
              "2002   0   0   3   1   0   1   0   0   0  ...   0   0   0   0   0   0   0   0   0\n",
              "2003   0   0   0   0   0   1   0   0   0  ...   0   0   0   0   0   0   4   0   0\n",
              "2004   0   0   2   0   1   0   0   0   0  ...   0   1   0   0   0   0   0   0   0\n",
              "2005   0   0   3   1   0   0   0   0   0  ...   0   0   0   0   0   0   0   0   0\n",
              "\n",
              "[5 rows x 27 columns]"
            ]
          },
          "metadata": {
            "tags": []
          },
          "execution_count": 7
        }
      ]
    },
    {
      "cell_type": "markdown",
      "metadata": {
        "id": "EYAZwItaEh_B"
      },
      "source": [
        "**Internações** (1998 - 2007, por ano de processamento)"
      ]
    },
    {
      "cell_type": "code",
      "metadata": {
        "id": "eP1v900fy7XT"
      },
      "source": [
        "# casos de fa, internacao por ano de processamento\n",
        "# periodo: 1998 - 2007 (por ano de processamento)\n",
        "dados_int_proce = 'https://github.com/itsGab/projeto-bootcamp-modulo-2-data-science/raw/main/dados-limpos/internacoes_fa_por_ano_proce_pivot.csv'\n",
        "inter_proce = pd.read_csv(dados_int_proce, index_col=0)"
      ],
      "execution_count": 8,
      "outputs": []
    },
    {
      "cell_type": "code",
      "metadata": {
        "colab": {
          "base_uri": "https://localhost:8080/",
          "height": 238
        },
        "id": "FcqDKnX-1uku",
        "outputId": "c732398c-1639-44ae-dff2-991e388c7fae"
      },
      "source": [
        "inter_proce['ano processamento'] = inter_proce['ano processamento'].map(para_ano)\n",
        "for uf in lista_uf:\n",
        "    if uf not in inter_proce.columns:\n",
        "        inter_proce[uf] = [0 for n in range(len(inter_proce))]\n",
        "inter_proce = inter_proce.set_index('ano processamento').loc[:, lista_uf]\n",
        "inter_proce.head()"
      ],
      "execution_count": 9,
      "outputs": [
        {
          "output_type": "execute_result",
          "data": {
            "text/html": [
              "<div>\n",
              "<style scoped>\n",
              "    .dataframe tbody tr th:only-of-type {\n",
              "        vertical-align: middle;\n",
              "    }\n",
              "\n",
              "    .dataframe tbody tr th {\n",
              "        vertical-align: top;\n",
              "    }\n",
              "\n",
              "    .dataframe thead th {\n",
              "        text-align: right;\n",
              "    }\n",
              "</style>\n",
              "<table border=\"1\" class=\"dataframe\">\n",
              "  <thead>\n",
              "    <tr style=\"text-align: right;\">\n",
              "      <th></th>\n",
              "      <th>ro</th>\n",
              "      <th>ac</th>\n",
              "      <th>am</th>\n",
              "      <th>rr</th>\n",
              "      <th>pa</th>\n",
              "      <th>ap</th>\n",
              "      <th>to</th>\n",
              "      <th>ma</th>\n",
              "      <th>pi</th>\n",
              "      <th>ce</th>\n",
              "      <th>rn</th>\n",
              "      <th>pb</th>\n",
              "      <th>pe</th>\n",
              "      <th>al</th>\n",
              "      <th>se</th>\n",
              "      <th>ba</th>\n",
              "      <th>mg</th>\n",
              "      <th>es</th>\n",
              "      <th>rj</th>\n",
              "      <th>sp</th>\n",
              "      <th>pr</th>\n",
              "      <th>sc</th>\n",
              "      <th>rs</th>\n",
              "      <th>ms</th>\n",
              "      <th>mt</th>\n",
              "      <th>go</th>\n",
              "      <th>df</th>\n",
              "    </tr>\n",
              "    <tr>\n",
              "      <th>ano processamento</th>\n",
              "      <th></th>\n",
              "      <th></th>\n",
              "      <th></th>\n",
              "      <th></th>\n",
              "      <th></th>\n",
              "      <th></th>\n",
              "      <th></th>\n",
              "      <th></th>\n",
              "      <th></th>\n",
              "      <th></th>\n",
              "      <th></th>\n",
              "      <th></th>\n",
              "      <th></th>\n",
              "      <th></th>\n",
              "      <th></th>\n",
              "      <th></th>\n",
              "      <th></th>\n",
              "      <th></th>\n",
              "      <th></th>\n",
              "      <th></th>\n",
              "      <th></th>\n",
              "      <th></th>\n",
              "      <th></th>\n",
              "      <th></th>\n",
              "      <th></th>\n",
              "      <th></th>\n",
              "      <th></th>\n",
              "    </tr>\n",
              "  </thead>\n",
              "  <tbody>\n",
              "    <tr>\n",
              "      <th>1998</th>\n",
              "      <td>0</td>\n",
              "      <td>3</td>\n",
              "      <td>7</td>\n",
              "      <td>0</td>\n",
              "      <td>1</td>\n",
              "      <td>2</td>\n",
              "      <td>0</td>\n",
              "      <td>1</td>\n",
              "      <td>0</td>\n",
              "      <td>1</td>\n",
              "      <td>0</td>\n",
              "      <td>0</td>\n",
              "      <td>0</td>\n",
              "      <td>0</td>\n",
              "      <td>0</td>\n",
              "      <td>23</td>\n",
              "      <td>10</td>\n",
              "      <td>0</td>\n",
              "      <td>0</td>\n",
              "      <td>3</td>\n",
              "      <td>1</td>\n",
              "      <td>2</td>\n",
              "      <td>0</td>\n",
              "      <td>0</td>\n",
              "      <td>0</td>\n",
              "      <td>1</td>\n",
              "      <td>1</td>\n",
              "    </tr>\n",
              "    <tr>\n",
              "      <th>1999</th>\n",
              "      <td>1</td>\n",
              "      <td>1</td>\n",
              "      <td>2</td>\n",
              "      <td>0</td>\n",
              "      <td>7</td>\n",
              "      <td>2</td>\n",
              "      <td>1</td>\n",
              "      <td>0</td>\n",
              "      <td>1</td>\n",
              "      <td>0</td>\n",
              "      <td>0</td>\n",
              "      <td>1</td>\n",
              "      <td>0</td>\n",
              "      <td>0</td>\n",
              "      <td>1</td>\n",
              "      <td>9</td>\n",
              "      <td>4</td>\n",
              "      <td>0</td>\n",
              "      <td>0</td>\n",
              "      <td>3</td>\n",
              "      <td>1</td>\n",
              "      <td>0</td>\n",
              "      <td>2</td>\n",
              "      <td>0</td>\n",
              "      <td>0</td>\n",
              "      <td>1</td>\n",
              "      <td>0</td>\n",
              "    </tr>\n",
              "    <tr>\n",
              "      <th>2000</th>\n",
              "      <td>0</td>\n",
              "      <td>0</td>\n",
              "      <td>1</td>\n",
              "      <td>0</td>\n",
              "      <td>3</td>\n",
              "      <td>0</td>\n",
              "      <td>2</td>\n",
              "      <td>1</td>\n",
              "      <td>1</td>\n",
              "      <td>0</td>\n",
              "      <td>0</td>\n",
              "      <td>0</td>\n",
              "      <td>0</td>\n",
              "      <td>0</td>\n",
              "      <td>0</td>\n",
              "      <td>3</td>\n",
              "      <td>3</td>\n",
              "      <td>0</td>\n",
              "      <td>1</td>\n",
              "      <td>8</td>\n",
              "      <td>0</td>\n",
              "      <td>2</td>\n",
              "      <td>0</td>\n",
              "      <td>0</td>\n",
              "      <td>5</td>\n",
              "      <td>4</td>\n",
              "      <td>8</td>\n",
              "    </tr>\n",
              "    <tr>\n",
              "      <th>2001</th>\n",
              "      <td>0</td>\n",
              "      <td>1</td>\n",
              "      <td>0</td>\n",
              "      <td>0</td>\n",
              "      <td>0</td>\n",
              "      <td>0</td>\n",
              "      <td>1</td>\n",
              "      <td>3</td>\n",
              "      <td>1</td>\n",
              "      <td>0</td>\n",
              "      <td>0</td>\n",
              "      <td>1</td>\n",
              "      <td>0</td>\n",
              "      <td>0</td>\n",
              "      <td>2</td>\n",
              "      <td>7</td>\n",
              "      <td>18</td>\n",
              "      <td>2</td>\n",
              "      <td>1</td>\n",
              "      <td>6</td>\n",
              "      <td>0</td>\n",
              "      <td>2</td>\n",
              "      <td>2</td>\n",
              "      <td>0</td>\n",
              "      <td>0</td>\n",
              "      <td>0</td>\n",
              "      <td>1</td>\n",
              "    </tr>\n",
              "    <tr>\n",
              "      <th>2002</th>\n",
              "      <td>0</td>\n",
              "      <td>1</td>\n",
              "      <td>1</td>\n",
              "      <td>0</td>\n",
              "      <td>1</td>\n",
              "      <td>0</td>\n",
              "      <td>1</td>\n",
              "      <td>0</td>\n",
              "      <td>0</td>\n",
              "      <td>0</td>\n",
              "      <td>0</td>\n",
              "      <td>0</td>\n",
              "      <td>0</td>\n",
              "      <td>0</td>\n",
              "      <td>0</td>\n",
              "      <td>2</td>\n",
              "      <td>4</td>\n",
              "      <td>1</td>\n",
              "      <td>6</td>\n",
              "      <td>1</td>\n",
              "      <td>1</td>\n",
              "      <td>2</td>\n",
              "      <td>1</td>\n",
              "      <td>0</td>\n",
              "      <td>1</td>\n",
              "      <td>0</td>\n",
              "      <td>1</td>\n",
              "    </tr>\n",
              "  </tbody>\n",
              "</table>\n",
              "</div>"
            ],
            "text/plain": [
              "                   ro  ac  am  rr  pa  ap  to  ...  pr  sc  rs  ms  mt  go  df\n",
              "ano processamento                              ...                            \n",
              "1998                0   3   7   0   1   2   0  ...   1   2   0   0   0   1   1\n",
              "1999                1   1   2   0   7   2   1  ...   1   0   2   0   0   1   0\n",
              "2000                0   0   1   0   3   0   2  ...   0   2   0   0   5   4   8\n",
              "2001                0   1   0   0   0   0   1  ...   0   2   2   0   0   0   1\n",
              "2002                0   1   1   0   1   0   1  ...   1   2   1   0   1   0   1\n",
              "\n",
              "[5 rows x 27 columns]"
            ]
          },
          "metadata": {
            "tags": []
          },
          "execution_count": 9
        }
      ]
    },
    {
      "cell_type": "markdown",
      "metadata": {
        "id": "KwcILarsEoCC"
      },
      "source": [
        "**Internações** (2007 - 2021, por ano de atendimento)"
      ]
    },
    {
      "cell_type": "code",
      "metadata": {
        "id": "Jy9o-9Sey7eU"
      },
      "source": [
        "# casos de fa, internacao por ano do atendimento\n",
        "# periodo: 2007 - 2021 (por ano de atendimento)\n",
        "dados_int_atend = 'https://github.com/itsGab/projeto-bootcamp-modulo-2-data-science/raw/main/dados-limpos/internacoes_fa_por_ano_atend_pivot.csv'\n",
        "inter_atend = pd.read_csv(dados_int_atend, index_col=0)"
      ],
      "execution_count": 10,
      "outputs": []
    },
    {
      "cell_type": "code",
      "metadata": {
        "colab": {
          "base_uri": "https://localhost:8080/",
          "height": 238
        },
        "id": "8nyffpMn1uig",
        "outputId": "88ef4ded-b3f8-4c32-f4b1-c593f209ffbb"
      },
      "source": [
        "inter_atend['ano atendimento'] = inter_atend['ano atendimento'].map(para_ano)\n",
        "for uf in lista_uf:\n",
        "    if uf not in inter_atend.columns:\n",
        "        inter_atend[uf] = [0 for n in range(len(inter_atend))]\n",
        "inter_atend = inter_atend.set_index('ano atendimento').loc[:, lista_uf] \n",
        "inter_atend.head()"
      ],
      "execution_count": 11,
      "outputs": [
        {
          "output_type": "execute_result",
          "data": {
            "text/html": [
              "<div>\n",
              "<style scoped>\n",
              "    .dataframe tbody tr th:only-of-type {\n",
              "        vertical-align: middle;\n",
              "    }\n",
              "\n",
              "    .dataframe tbody tr th {\n",
              "        vertical-align: top;\n",
              "    }\n",
              "\n",
              "    .dataframe thead th {\n",
              "        text-align: right;\n",
              "    }\n",
              "</style>\n",
              "<table border=\"1\" class=\"dataframe\">\n",
              "  <thead>\n",
              "    <tr style=\"text-align: right;\">\n",
              "      <th></th>\n",
              "      <th>ro</th>\n",
              "      <th>ac</th>\n",
              "      <th>am</th>\n",
              "      <th>rr</th>\n",
              "      <th>pa</th>\n",
              "      <th>ap</th>\n",
              "      <th>to</th>\n",
              "      <th>ma</th>\n",
              "      <th>pi</th>\n",
              "      <th>ce</th>\n",
              "      <th>rn</th>\n",
              "      <th>pb</th>\n",
              "      <th>pe</th>\n",
              "      <th>al</th>\n",
              "      <th>se</th>\n",
              "      <th>ba</th>\n",
              "      <th>mg</th>\n",
              "      <th>es</th>\n",
              "      <th>rj</th>\n",
              "      <th>sp</th>\n",
              "      <th>pr</th>\n",
              "      <th>sc</th>\n",
              "      <th>rs</th>\n",
              "      <th>ms</th>\n",
              "      <th>mt</th>\n",
              "      <th>go</th>\n",
              "      <th>df</th>\n",
              "    </tr>\n",
              "    <tr>\n",
              "      <th>ano atendimento</th>\n",
              "      <th></th>\n",
              "      <th></th>\n",
              "      <th></th>\n",
              "      <th></th>\n",
              "      <th></th>\n",
              "      <th></th>\n",
              "      <th></th>\n",
              "      <th></th>\n",
              "      <th></th>\n",
              "      <th></th>\n",
              "      <th></th>\n",
              "      <th></th>\n",
              "      <th></th>\n",
              "      <th></th>\n",
              "      <th></th>\n",
              "      <th></th>\n",
              "      <th></th>\n",
              "      <th></th>\n",
              "      <th></th>\n",
              "      <th></th>\n",
              "      <th></th>\n",
              "      <th></th>\n",
              "      <th></th>\n",
              "      <th></th>\n",
              "      <th></th>\n",
              "      <th></th>\n",
              "      <th></th>\n",
              "    </tr>\n",
              "  </thead>\n",
              "  <tbody>\n",
              "    <tr>\n",
              "      <th>2007</th>\n",
              "      <td>0</td>\n",
              "      <td>0</td>\n",
              "      <td>1</td>\n",
              "      <td>0</td>\n",
              "      <td>0</td>\n",
              "      <td>0</td>\n",
              "      <td>0</td>\n",
              "      <td>0</td>\n",
              "      <td>0</td>\n",
              "      <td>0</td>\n",
              "      <td>0</td>\n",
              "      <td>0</td>\n",
              "      <td>0</td>\n",
              "      <td>0</td>\n",
              "      <td>0</td>\n",
              "      <td>0</td>\n",
              "      <td>0</td>\n",
              "      <td>0</td>\n",
              "      <td>0</td>\n",
              "      <td>1</td>\n",
              "      <td>0</td>\n",
              "      <td>0</td>\n",
              "      <td>0</td>\n",
              "      <td>0</td>\n",
              "      <td>0</td>\n",
              "      <td>1</td>\n",
              "      <td>0</td>\n",
              "    </tr>\n",
              "    <tr>\n",
              "      <th>2008</th>\n",
              "      <td>0</td>\n",
              "      <td>0</td>\n",
              "      <td>13</td>\n",
              "      <td>0</td>\n",
              "      <td>2</td>\n",
              "      <td>0</td>\n",
              "      <td>0</td>\n",
              "      <td>0</td>\n",
              "      <td>0</td>\n",
              "      <td>2</td>\n",
              "      <td>0</td>\n",
              "      <td>1</td>\n",
              "      <td>3</td>\n",
              "      <td>0</td>\n",
              "      <td>0</td>\n",
              "      <td>1</td>\n",
              "      <td>4</td>\n",
              "      <td>1</td>\n",
              "      <td>0</td>\n",
              "      <td>5</td>\n",
              "      <td>2</td>\n",
              "      <td>1</td>\n",
              "      <td>3</td>\n",
              "      <td>2</td>\n",
              "      <td>1</td>\n",
              "      <td>0</td>\n",
              "      <td>1</td>\n",
              "    </tr>\n",
              "    <tr>\n",
              "      <th>2009</th>\n",
              "      <td>0</td>\n",
              "      <td>0</td>\n",
              "      <td>13</td>\n",
              "      <td>0</td>\n",
              "      <td>2</td>\n",
              "      <td>1</td>\n",
              "      <td>0</td>\n",
              "      <td>0</td>\n",
              "      <td>0</td>\n",
              "      <td>1</td>\n",
              "      <td>0</td>\n",
              "      <td>0</td>\n",
              "      <td>5</td>\n",
              "      <td>0</td>\n",
              "      <td>0</td>\n",
              "      <td>1</td>\n",
              "      <td>3</td>\n",
              "      <td>3</td>\n",
              "      <td>1</td>\n",
              "      <td>21</td>\n",
              "      <td>1</td>\n",
              "      <td>0</td>\n",
              "      <td>8</td>\n",
              "      <td>0</td>\n",
              "      <td>0</td>\n",
              "      <td>0</td>\n",
              "      <td>1</td>\n",
              "    </tr>\n",
              "    <tr>\n",
              "      <th>2010</th>\n",
              "      <td>0</td>\n",
              "      <td>0</td>\n",
              "      <td>13</td>\n",
              "      <td>0</td>\n",
              "      <td>2</td>\n",
              "      <td>0</td>\n",
              "      <td>0</td>\n",
              "      <td>0</td>\n",
              "      <td>0</td>\n",
              "      <td>0</td>\n",
              "      <td>0</td>\n",
              "      <td>0</td>\n",
              "      <td>3</td>\n",
              "      <td>2</td>\n",
              "      <td>0</td>\n",
              "      <td>1</td>\n",
              "      <td>3</td>\n",
              "      <td>0</td>\n",
              "      <td>1</td>\n",
              "      <td>1</td>\n",
              "      <td>0</td>\n",
              "      <td>0</td>\n",
              "      <td>2</td>\n",
              "      <td>1</td>\n",
              "      <td>0</td>\n",
              "      <td>0</td>\n",
              "      <td>3</td>\n",
              "    </tr>\n",
              "    <tr>\n",
              "      <th>2011</th>\n",
              "      <td>0</td>\n",
              "      <td>0</td>\n",
              "      <td>3</td>\n",
              "      <td>0</td>\n",
              "      <td>0</td>\n",
              "      <td>0</td>\n",
              "      <td>0</td>\n",
              "      <td>1</td>\n",
              "      <td>0</td>\n",
              "      <td>2</td>\n",
              "      <td>0</td>\n",
              "      <td>0</td>\n",
              "      <td>4</td>\n",
              "      <td>0</td>\n",
              "      <td>0</td>\n",
              "      <td>0</td>\n",
              "      <td>1</td>\n",
              "      <td>1</td>\n",
              "      <td>1</td>\n",
              "      <td>2</td>\n",
              "      <td>2</td>\n",
              "      <td>0</td>\n",
              "      <td>2</td>\n",
              "      <td>0</td>\n",
              "      <td>0</td>\n",
              "      <td>2</td>\n",
              "      <td>0</td>\n",
              "    </tr>\n",
              "  </tbody>\n",
              "</table>\n",
              "</div>"
            ],
            "text/plain": [
              "                 ro  ac  am  rr  pa  ap  to  ma  ...  sp  pr  sc  rs  ms  mt  go  df\n",
              "ano atendimento                                  ...                                \n",
              "2007              0   0   1   0   0   0   0   0  ...   1   0   0   0   0   0   1   0\n",
              "2008              0   0  13   0   2   0   0   0  ...   5   2   1   3   2   1   0   1\n",
              "2009              0   0  13   0   2   1   0   0  ...  21   1   0   8   0   0   0   1\n",
              "2010              0   0  13   0   2   0   0   0  ...   1   0   0   2   1   0   0   3\n",
              "2011              0   0   3   0   0   0   0   1  ...   2   2   0   2   0   0   2   0\n",
              "\n",
              "[5 rows x 27 columns]"
            ]
          },
          "metadata": {
            "tags": []
          },
          "execution_count": 11
        }
      ]
    },
    {
      "cell_type": "markdown",
      "metadata": {
        "id": "h-HcsMNyFByW"
      },
      "source": [
        "**População estimada** (1992 - 2019)"
      ]
    },
    {
      "cell_type": "code",
      "metadata": {
        "id": "wRD4GtwXy7QB"
      },
      "source": [
        "# populacao estimada\n",
        "# periodo: 1992 - 2019\n",
        "dados_pop_est = 'https://github.com/itsGab/projeto-bootcamp-modulo-2-data-science/raw/main/dados-limpos/populacao_estimada_pivot.csv'\n",
        "populacao = pd.read_csv(dados_pop_est, index_col=0)"
      ],
      "execution_count": 12,
      "outputs": []
    },
    {
      "cell_type": "code",
      "metadata": {
        "colab": {
          "base_uri": "https://localhost:8080/",
          "height": 258
        },
        "id": "tX5UZDOA1um8",
        "outputId": "0b960e38-b306-49dd-fe9a-4355595a459f"
      },
      "source": [
        "populacao['ano'] = populacao['ano'].map(para_ano)\n",
        "populacao.set_index('ano', inplace=True)\n",
        "populacao.head()"
      ],
      "execution_count": 13,
      "outputs": [
        {
          "output_type": "execute_result",
          "data": {
            "text/html": [
              "<div>\n",
              "<style scoped>\n",
              "    .dataframe tbody tr th:only-of-type {\n",
              "        vertical-align: middle;\n",
              "    }\n",
              "\n",
              "    .dataframe tbody tr th {\n",
              "        vertical-align: top;\n",
              "    }\n",
              "\n",
              "    .dataframe thead th {\n",
              "        text-align: right;\n",
              "    }\n",
              "</style>\n",
              "<table border=\"1\" class=\"dataframe\">\n",
              "  <thead>\n",
              "    <tr style=\"text-align: right;\">\n",
              "      <th></th>\n",
              "      <th>ro</th>\n",
              "      <th>ac</th>\n",
              "      <th>am</th>\n",
              "      <th>rr</th>\n",
              "      <th>pa</th>\n",
              "      <th>ap</th>\n",
              "      <th>to</th>\n",
              "      <th>ma</th>\n",
              "      <th>pi</th>\n",
              "      <th>ce</th>\n",
              "      <th>rn</th>\n",
              "      <th>pb</th>\n",
              "      <th>pe</th>\n",
              "      <th>al</th>\n",
              "      <th>se</th>\n",
              "      <th>ba</th>\n",
              "      <th>mg</th>\n",
              "      <th>es</th>\n",
              "      <th>rj</th>\n",
              "      <th>sp</th>\n",
              "      <th>pr</th>\n",
              "      <th>sc</th>\n",
              "      <th>rs</th>\n",
              "      <th>ms</th>\n",
              "      <th>mt</th>\n",
              "      <th>go</th>\n",
              "      <th>df</th>\n",
              "    </tr>\n",
              "    <tr>\n",
              "      <th>ano</th>\n",
              "      <th></th>\n",
              "      <th></th>\n",
              "      <th></th>\n",
              "      <th></th>\n",
              "      <th></th>\n",
              "      <th></th>\n",
              "      <th></th>\n",
              "      <th></th>\n",
              "      <th></th>\n",
              "      <th></th>\n",
              "      <th></th>\n",
              "      <th></th>\n",
              "      <th></th>\n",
              "      <th></th>\n",
              "      <th></th>\n",
              "      <th></th>\n",
              "      <th></th>\n",
              "      <th></th>\n",
              "      <th></th>\n",
              "      <th></th>\n",
              "      <th></th>\n",
              "      <th></th>\n",
              "      <th></th>\n",
              "      <th></th>\n",
              "      <th></th>\n",
              "      <th></th>\n",
              "      <th></th>\n",
              "    </tr>\n",
              "  </thead>\n",
              "  <tbody>\n",
              "    <tr>\n",
              "      <th>1992</th>\n",
              "      <td>1190739</td>\n",
              "      <td>428006</td>\n",
              "      <td>2165852</td>\n",
              "      <td>228749</td>\n",
              "      <td>5328133</td>\n",
              "      <td>299305</td>\n",
              "      <td>946604</td>\n",
              "      <td>4990749</td>\n",
              "      <td>2610476</td>\n",
              "      <td>6433713</td>\n",
              "      <td>2448267</td>\n",
              "      <td>3229163</td>\n",
              "      <td>7187355</td>\n",
              "      <td>2548092</td>\n",
              "      <td>1515142</td>\n",
              "      <td>12014023</td>\n",
              "      <td>15941939</td>\n",
              "      <td>2649747</td>\n",
              "      <td>12916705</td>\n",
              "      <td>32126058</td>\n",
              "      <td>8511279</td>\n",
              "      <td>4614268</td>\n",
              "      <td>9249199</td>\n",
              "      <td>1818175</td>\n",
              "      <td>2107698</td>\n",
              "      <td>4098513</td>\n",
              "      <td>1639035</td>\n",
              "    </tr>\n",
              "    <tr>\n",
              "      <th>1993</th>\n",
              "      <td>1241693</td>\n",
              "      <td>437495</td>\n",
              "      <td>2217600</td>\n",
              "      <td>241099</td>\n",
              "      <td>5212812</td>\n",
              "      <td>308787</td>\n",
              "      <td>970259</td>\n",
              "      <td>5088898</td>\n",
              "      <td>2657415</td>\n",
              "      <td>6549847</td>\n",
              "      <td>2503463</td>\n",
              "      <td>3274323</td>\n",
              "      <td>7295118</td>\n",
              "      <td>2604394</td>\n",
              "      <td>1551633</td>\n",
              "      <td>12278027</td>\n",
              "      <td>16144856</td>\n",
              "      <td>2698687</td>\n",
              "      <td>13065279</td>\n",
              "      <td>32701353</td>\n",
              "      <td>8587901</td>\n",
              "      <td>4697277</td>\n",
              "      <td>9370531</td>\n",
              "      <td>1850162</td>\n",
              "      <td>2178178</td>\n",
              "      <td>4171489</td>\n",
              "      <td>1673151</td>\n",
              "    </tr>\n",
              "    <tr>\n",
              "      <th>1994</th>\n",
              "      <td>1291214</td>\n",
              "      <td>446480</td>\n",
              "      <td>2269555</td>\n",
              "      <td>251783</td>\n",
              "      <td>5332187</td>\n",
              "      <td>317597</td>\n",
              "      <td>990760</td>\n",
              "      <td>5160974</td>\n",
              "      <td>2691615</td>\n",
              "      <td>6633080</td>\n",
              "      <td>2543397</td>\n",
              "      <td>3307583</td>\n",
              "      <td>7371110</td>\n",
              "      <td>2645417</td>\n",
              "      <td>1578782</td>\n",
              "      <td>12464316</td>\n",
              "      <td>16327360</td>\n",
              "      <td>2743243</td>\n",
              "      <td>13182301</td>\n",
              "      <td>33206755</td>\n",
              "      <td>8651138</td>\n",
              "      <td>4767826</td>\n",
              "      <td>9475871</td>\n",
              "      <td>1881868</td>\n",
              "      <td>2246757</td>\n",
              "      <td>4240812</td>\n",
              "      <td>1705889</td>\n",
              "    </tr>\n",
              "    <tr>\n",
              "      <th>1995</th>\n",
              "      <td>1339507</td>\n",
              "      <td>455242</td>\n",
              "      <td>2320221</td>\n",
              "      <td>262201</td>\n",
              "      <td>5448598</td>\n",
              "      <td>326188</td>\n",
              "      <td>1007041</td>\n",
              "      <td>5231261</td>\n",
              "      <td>2724967</td>\n",
              "      <td>6714246</td>\n",
              "      <td>2582339</td>\n",
              "      <td>3340018</td>\n",
              "      <td>7445216</td>\n",
              "      <td>2685421</td>\n",
              "      <td>1605257</td>\n",
              "      <td>12645982</td>\n",
              "      <td>16505334</td>\n",
              "      <td>2786692</td>\n",
              "      <td>13296419</td>\n",
              "      <td>33699614</td>\n",
              "      <td>8712805</td>\n",
              "      <td>4836624</td>\n",
              "      <td>9578597</td>\n",
              "      <td>1912788</td>\n",
              "      <td>2313634</td>\n",
              "      <td>4308415</td>\n",
              "      <td>1737813</td>\n",
              "    </tr>\n",
              "    <tr>\n",
              "      <th>1997</th>\n",
              "      <td>1255522</td>\n",
              "      <td>500185</td>\n",
              "      <td>2460602</td>\n",
              "      <td>254499</td>\n",
              "      <td>5650681</td>\n",
              "      <td>401916</td>\n",
              "      <td>1080753</td>\n",
              "      <td>5295452</td>\n",
              "      <td>2695876</td>\n",
              "      <td>6920292</td>\n",
              "      <td>2594340</td>\n",
              "      <td>3331673</td>\n",
              "      <td>7466773</td>\n",
              "      <td>2663071</td>\n",
              "      <td>1657164</td>\n",
              "      <td>12709744</td>\n",
              "      <td>16904977</td>\n",
              "      <td>2853098</td>\n",
              "      <td>13555657</td>\n",
              "      <td>34752225</td>\n",
              "      <td>9142215</td>\n",
              "      <td>4958339</td>\n",
              "      <td>9762110</td>\n",
              "      <td>1964603</td>\n",
              "      <td>2287846</td>\n",
              "      <td>4639785</td>\n",
              "      <td>1877015</td>\n",
              "    </tr>\n",
              "  </tbody>\n",
              "</table>\n",
              "</div>"
            ],
            "text/plain": [
              "           ro      ac       am      rr  ...       ms       mt       go       df\n",
              "ano                                     ...                                    \n",
              "1992  1190739  428006  2165852  228749  ...  1818175  2107698  4098513  1639035\n",
              "1993  1241693  437495  2217600  241099  ...  1850162  2178178  4171489  1673151\n",
              "1994  1291214  446480  2269555  251783  ...  1881868  2246757  4240812  1705889\n",
              "1995  1339507  455242  2320221  262201  ...  1912788  2313634  4308415  1737813\n",
              "1997  1255522  500185  2460602  254499  ...  1964603  2287846  4639785  1877015\n",
              "\n",
              "[5 rows x 27 columns]"
            ]
          },
          "metadata": {
            "tags": []
          },
          "execution_count": 13
        }
      ]
    },
    {
      "cell_type": "markdown",
      "metadata": {
        "id": "bdNRDgIj6jyA"
      },
      "source": [
        "## ANÁLISE EXPLORATÓRIA DOS DADOS\n"
      ]
    },
    {
      "cell_type": "code",
      "metadata": {
        "id": "wQ7xZqUxzpis"
      },
      "source": [
        "vacinal = vacinal.loc[2008:2018, :]\n",
        "populacao = populacao.loc[2008:2018, :] \n",
        "inter_atend = inter_atend.loc[2008:2018, :]\n",
        "casos = casos.loc[2008:2018, :] # casos soh vai ateh 2016"
      ],
      "execution_count": 14,
      "outputs": []
    },
    {
      "cell_type": "code",
      "metadata": {
        "id": "xi4b9TFk4fq-"
      },
      "source": [
        "# ordenado\n",
        "casos_orden_uf = casos.sum().sort_values(ascending=False)"
      ],
      "execution_count": 15,
      "outputs": []
    },
    {
      "cell_type": "code",
      "metadata": {
        "colab": {
          "base_uri": "https://localhost:8080/",
          "height": 336
        },
        "id": "mXReYMX7ZsX2",
        "outputId": "016504ee-0c1e-40a1-a4ef-f2bafe27d0c4"
      },
      "source": [
        "plt.figure(figsize=(7,5))\n",
        "sns.barplot(y=casos_orden_uf.values, x=casos_orden_uf.index)\n",
        "plt.title('Total de Casos por UF (2008-2016)')\n",
        "plt.ylabel('Qtd.')\n",
        "plt.show()"
      ],
      "execution_count": 16,
      "outputs": [
        {
          "output_type": "display_data",
          "data": {
            "image/png": "[encoded data removed]",
            "text/plain": [
              "<Figure size 504x360 with 1 Axes>"
            ]
          },
          "metadata": {
            "tags": [],
            "needs_background": "light"
          }
        }
      ]
    },
    {
      "cell_type": "markdown",
      "metadata": {
        "id": "DhG0Wez5G9Tl"
      },
      "source": [
        "Resolvi nao usar os Casos, pois esta falatando os anos de 2017 e 2018, anos que ouveram muitos casos nos estados de MG e ES.\n",
        "\n",
        "Usarei os dados referentes as internacoes por febre amarela como referencial"
      ]
    },
    {
      "cell_type": "code",
      "metadata": {
        "colab": {
          "base_uri": "https://localhost:8080/",
          "height": 390
        },
        "id": "e1m05IIsGWZb",
        "outputId": "86185ba7-6b5c-4802-833d-6054d5aa5d67"
      },
      "source": [
        "inter_orden_uf = inter_atend.sum().sort_values(ascending=False)\n",
        "plt.figure(figsize=(10,6))\n",
        "sns.barplot(y=inter_orden_uf.values, x=inter_orden_uf.index)\n",
        "plt.title('Total de Internacoes por UF (2008-2018)')\n",
        "plt.ylabel('Numero de Internacoes')\n",
        "plt.show()"
      ],
      "execution_count": 17,
      "outputs": [
        {
          "output_type": "display_data",
          "data": {
            "image/png": "[encoded data removed]",
            "text/plain": [
              "<Figure size 720x432 with 1 Axes>"
            ]
          },
          "metadata": {
            "tags": [],
            "needs_background": "light"
          }
        }
      ]
    },
    {
      "cell_type": "markdown",
      "metadata": {
        "id": "MEonusQOHr1s"
      },
      "source": [
        "Como os estados que tiveram mais internacoes registradas foram MG, SP, ES, usarei eles para delimitar mais a analise\n",
        "\n",
        "![](https://4.bp.blogspot.com/-4r6CyySHFSg/WnFYXXhipeI/AAAAAAAACXo/gQ_jXGLUtZYlMouXVVrg_ZgLncN0_FfdwCLcBGAs/s1600/vacina-FA.png)\n",
        "\n",
        "Tendo como referencia o mapa, podemos ver que de 1998 até 2008 a area consideradas epidemiologicas de febre amarela no brasil abrange em grande parte o estado da fatia de analise (MG, ES, SP)."
      ]
    },
    {
      "cell_type": "code",
      "metadata": {
        "id": "eErCbeuZLrg2"
      },
      "source": [
        "fatia = ['mg', 'es', 'sp']"
      ],
      "execution_count": 62,
      "outputs": []
    },
    {
      "cell_type": "code",
      "metadata": {
        "colab": {
          "base_uri": "https://localhost:8080/",
          "height": 426
        },
        "id": "fRcfZLSAHHOm",
        "outputId": "12c4e218-7a3b-4063-9984-f5a34cce3a23"
      },
      "source": [
        "inter_atend[fatia]"
      ],
      "execution_count": 71,
      "outputs": [
        {
          "output_type": "execute_result",
          "data": {
            "text/html": [
              "<div>\n",
              "<style scoped>\n",
              "    .dataframe tbody tr th:only-of-type {\n",
              "        vertical-align: middle;\n",
              "    }\n",
              "\n",
              "    .dataframe tbody tr th {\n",
              "        vertical-align: top;\n",
              "    }\n",
              "\n",
              "    .dataframe thead th {\n",
              "        text-align: right;\n",
              "    }\n",
              "</style>\n",
              "<table border=\"1\" class=\"dataframe\">\n",
              "  <thead>\n",
              "    <tr style=\"text-align: right;\">\n",
              "      <th></th>\n",
              "      <th>mg</th>\n",
              "      <th>es</th>\n",
              "      <th>sp</th>\n",
              "    </tr>\n",
              "    <tr>\n",
              "      <th>ano atendimento</th>\n",
              "      <th></th>\n",
              "      <th></th>\n",
              "      <th></th>\n",
              "    </tr>\n",
              "  </thead>\n",
              "  <tbody>\n",
              "    <tr>\n",
              "      <th>2008</th>\n",
              "      <td>4</td>\n",
              "      <td>1</td>\n",
              "      <td>5</td>\n",
              "    </tr>\n",
              "    <tr>\n",
              "      <th>2009</th>\n",
              "      <td>3</td>\n",
              "      <td>3</td>\n",
              "      <td>21</td>\n",
              "    </tr>\n",
              "    <tr>\n",
              "      <th>2010</th>\n",
              "      <td>3</td>\n",
              "      <td>0</td>\n",
              "      <td>1</td>\n",
              "    </tr>\n",
              "    <tr>\n",
              "      <th>2011</th>\n",
              "      <td>1</td>\n",
              "      <td>1</td>\n",
              "      <td>2</td>\n",
              "    </tr>\n",
              "    <tr>\n",
              "      <th>2012</th>\n",
              "      <td>1</td>\n",
              "      <td>1</td>\n",
              "      <td>2</td>\n",
              "    </tr>\n",
              "    <tr>\n",
              "      <th>2013</th>\n",
              "      <td>4</td>\n",
              "      <td>0</td>\n",
              "      <td>0</td>\n",
              "    </tr>\n",
              "    <tr>\n",
              "      <th>2014</th>\n",
              "      <td>2</td>\n",
              "      <td>0</td>\n",
              "      <td>1</td>\n",
              "    </tr>\n",
              "    <tr>\n",
              "      <th>2015</th>\n",
              "      <td>2</td>\n",
              "      <td>0</td>\n",
              "      <td>1</td>\n",
              "    </tr>\n",
              "    <tr>\n",
              "      <th>2016</th>\n",
              "      <td>6</td>\n",
              "      <td>0</td>\n",
              "      <td>1</td>\n",
              "    </tr>\n",
              "    <tr>\n",
              "      <th>2017</th>\n",
              "      <td>484</td>\n",
              "      <td>210</td>\n",
              "      <td>15</td>\n",
              "    </tr>\n",
              "    <tr>\n",
              "      <th>2018</th>\n",
              "      <td>599</td>\n",
              "      <td>4</td>\n",
              "      <td>277</td>\n",
              "    </tr>\n",
              "  </tbody>\n",
              "</table>\n",
              "</div>"
            ],
            "text/plain": [
              "                  mg   es   sp\n",
              "ano atendimento               \n",
              "2008               4    1    5\n",
              "2009               3    3   21\n",
              "2010               3    0    1\n",
              "2011               1    1    2\n",
              "2012               1    1    2\n",
              "2013               4    0    0\n",
              "2014               2    0    1\n",
              "2015               2    0    1\n",
              "2016               6    0    1\n",
              "2017             484  210   15\n",
              "2018             599    4  277"
            ]
          },
          "metadata": {
            "tags": []
          },
          "execution_count": 71
        }
      ]
    },
    {
      "cell_type": "code",
      "metadata": {
        "id": "Muplyln3NV4g"
      },
      "source": [
        "def plota_internacoes_por_vacinal(uf):\n",
        "    f, ax = plt.subplots(2,1, figsize=(10,6))\n",
        "\n",
        "    sns.lineplot(data=inter_atend, x='ano atendimento', y=uf, ax=ax[0])\n",
        "    ax[0].set_ylabel('internacoes por fa')\n",
        "\n",
        "    sns.lineplot(data=vacinal, x='ano', y=uf, ax=ax[1])\n",
        "    ax[1].set_ylim(0, 100)\n",
        "    ax[1].set_ylabel('% cobertura vacinal')\n",
        "    plt.show()"
      ],
      "execution_count": 98,
      "outputs": []
    },
    {
      "cell_type": "markdown",
      "metadata": {
        "id": "odStaop7P31i"
      },
      "source": [
        "plotando a relacao entre o numero de casos e a cobertura vacinal"
      ]
    },
    {
      "cell_type": "code",
      "metadata": {
        "colab": {
          "base_uri": "https://localhost:8080/",
          "height": 388
        },
        "id": "sNY-yh9fNV10",
        "outputId": "df31c957-f893-4069-ec4a-e032e3d09ead"
      },
      "source": [
        "plota_internacoes_por_vacinal('mg')"
      ],
      "execution_count": 101,
      "outputs": [
        {
          "output_type": "display_data",
          "data": {
            "image/png": "[encoded data removed]",
            "text/plain": [
              "<Figure size 720x432 with 2 Axes>"
            ]
          },
          "metadata": {
            "tags": [],
            "needs_background": "light"
          }
        }
      ]
    },
    {
      "cell_type": "code",
      "metadata": {
        "colab": {
          "base_uri": "https://localhost:8080/",
          "height": 388
        },
        "id": "xa58AnA_NVzM",
        "outputId": "4b0089ef-898c-484f-e207-ddfdebfa9500"
      },
      "source": [
        "plota_internacoes_por_vacinal('es')"
      ],
      "execution_count": 102,
      "outputs": [
        {
          "output_type": "display_data",
          "data": {
            "image/png": "[encoded data removed]",
            "text/plain": [
              "<Figure size 720x432 with 2 Axes>"
            ]
          },
          "metadata": {
            "tags": [],
            "needs_background": "light"
          }
        }
      ]
    },
    {
      "cell_type": "code",
      "metadata": {
        "colab": {
          "base_uri": "https://localhost:8080/",
          "height": 388
        },
        "id": "mzpiQ1DtNVsa",
        "outputId": "2ee3d44c-d45c-4a37-fa79-6fec09a2a5ef"
      },
      "source": [
        "plota_internacoes_por_vacinal('sp')"
      ],
      "execution_count": 103,
      "outputs": [
        {
          "output_type": "display_data",
          "data": {
            "image/png": "[encoded data removed]",
            "text/plain": [
              "<Figure size 720x432 with 2 Axes>"
            ]
          },
          "metadata": {
            "tags": [],
            "needs_background": "light"
          }
        }
      ]
    },
    {
      "cell_type": "markdown",
      "metadata": {
        "id": "QkHi5lRr6kys"
      },
      "source": [
        "## CRIAÇÃO DE HIPÓTESES\n"
      ]
    },
    {
      "cell_type": "code",
      "metadata": {
        "id": "PkjZPNnkRi1r"
      },
      "source": [
        ""
      ],
      "execution_count": 19,
      "outputs": []
    },
    {
      "cell_type": "markdown",
      "metadata": {
        "id": "UQcbmZZm6lAs"
      },
      "source": [
        "## CONCLUSÃO"
      ]
    },
    {
      "cell_type": "code",
      "metadata": {
        "id": "JPm4Klue6n5M"
      },
      "source": [
        "# Apresentar conclusoes!"
      ],
      "execution_count": 20,
      "outputs": []
    }
  ]
}