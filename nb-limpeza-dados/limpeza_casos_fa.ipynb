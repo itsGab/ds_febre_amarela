{
  "nbformat": 4,
  "nbformat_minor": 0,
  "metadata": {
    "colab": {
      "name": "limpeza_casos_fa.ipynb",
      "provenance": [],
      "collapsed_sections": [],
      "authorship_tag": "ABX9TyNRzpIW2UuvBw7VMxbV8a1a",
      "include_colab_link": true
    },
    "kernelspec": {
      "name": "python3",
      "display_name": "Python 3"
    },
    "language_info": {
      "name": "python"
    }
  },
  "cells": [
    {
      "cell_type": "markdown",
      "metadata": {
        "id": "view-in-github",
        "colab_type": "text"
      },
      "source": [
        "<a href=\"https://colab.research.google.com/github/itsGab/projeto-bootcamp-modulo-2-data-science/blob/main/nb-limpeza-dados/limpeza_casos_fa.ipynb\" target=\"_parent\"><img src=\"https://colab.research.google.com/assets/colab-badge.svg\" alt=\"Open In Colab\"/></a>"
      ]
    },
    {
      "cell_type": "markdown",
      "metadata": {
        "id": "uW-5ugNUCfpJ"
      },
      "source": [
        "# Limpeza: Casos de Febre Amarela"
      ]
    },
    {
      "cell_type": "markdown",
      "metadata": {
        "id": "POmY2ZHfDC5X"
      },
      "source": [
        "Importações"
      ]
    },
    {
      "cell_type": "code",
      "metadata": {
        "id": "npMJdLQTCezv"
      },
      "source": [
        "import pandas as pd\n",
        "import seaborn as sns\n",
        "import matplotlib.pyplot as plt\n",
        "from datetime import date"
      ],
      "execution_count": 24,
      "outputs": []
    },
    {
      "cell_type": "markdown",
      "metadata": {
        "id": "kpc1VDMmDGpG"
      },
      "source": [
        "Leitura dos dados"
      ]
    },
    {
      "cell_type": "code",
      "metadata": {
        "id": "5WgkpdrXDIvq"
      },
      "source": [
        "# 2001-2006\n",
        "url_c1 = 'https://github.com/itsGab/projeto-bootcamp-modulo-2-data-science/raw/main/dados-brutos/casos%20confirmados%20por%20uf%20de%20notificacao%20segundo%20ano%20de%20atendimento%20de%202001%20a%202006.csv'\n",
        "\n",
        "# 2007-2016\n",
        "url_c2 = 'https://github.com/itsGab/projeto-bootcamp-modulo-2-data-science/raw/main/dados-brutos/casos%20confirmados%20por%20uf%20de%20notificacao%20segundo%20ano%20de%20atendimento%20de%202007%20a%202016.csv'\n"
      ],
      "execution_count": 25,
      "outputs": []
    },
    {
      "cell_type": "code",
      "metadata": {
        "id": "RmZfRGveDhLs"
      },
      "source": [
        "# lendo o arquivo csv\n",
        "df1 = pd.read_csv(url_c1, sep=';', encoding='latin-1', engine='python', decimal=',',\n",
        "            thousands='.', skiprows=3, skipfooter=14)"
      ],
      "execution_count": 26,
      "outputs": []
    },
    {
      "cell_type": "code",
      "metadata": {
        "id": "CfKaBF8JDuAe"
      },
      "source": [
        "# limpando os dados\n",
        "df1 = df1.drop('Total', axis=1)\n",
        "df1.columns = df1.columns.str.lower()\n",
        "lista = df1.columns.to_list()\n",
        "lista[0] = 'ano'\n",
        "df1.columns = lista \n",
        "df1 = df1.replace('-', 0).astype(int)\n",
        "df1['ano'] = df1['ano'].map({ano: date(ano,1,1) for ano in df1['ano']})"
      ],
      "execution_count": 28,
      "outputs": []
    },
    {
      "cell_type": "code",
      "metadata": {
        "id": "LRKLKFhxGtGq"
      },
      "source": [
        "# lendo o arquivo csv\n",
        "df2 = pd.read_csv(url_c2, sep=';', encoding='latin-1', engine='python', decimal=',',\n",
        "            thousands='.', skiprows=3, skipfooter=13)"
      ],
      "execution_count": 29,
      "outputs": []
    },
    {
      "cell_type": "code",
      "metadata": {
        "id": "Ls28fk0QGuZU"
      },
      "source": [
        "# limpando os dados\n",
        "df2.columns = df2.columns.str.lower()\n",
        "lista = df2.columns.tolist()\n",
        "lista[0]= ('ano')\n",
        "df2.columns = lista\n",
        "df2 = df2.drop('total', axis=1)\n",
        "df2 = df2.replace('-', 0).astype(int)\n",
        "df2['ano'] = df2['ano'].map({ano: date(ano,1,1) for ano in df2['ano']})"
      ],
      "execution_count": 30,
      "outputs": []
    },
    {
      "cell_type": "code",
      "metadata": {
        "id": "bMNIiXohS6qS"
      },
      "source": [
        "# lista de todos os estados\n",
        "lista_uf = ['ano', 'ro', 'ac', 'am', 'rr', 'pa', 'ap', 'to', 'ma', 'pi', 'ce', \n",
        "            'rn', 'pb', 'pe', 'al', 'se', 'ba', 'mg', 'es', 'rj', 'sp', 'pr', \n",
        "            'sc', 'rs', 'ms', 'mt', 'go', 'df']"
      ],
      "execution_count": 31,
      "outputs": []
    },
    {
      "cell_type": "code",
      "metadata": {
        "id": "O5wFJY_2OFZ1"
      },
      "source": [
        "# adicionando as linhas dos estados que nao tiveram casos df1\n",
        "for uf in lista_uf:\n",
        "    if uf not in df1.columns:\n",
        "        df1[uf] = [0 for n in range(len(df1))]\n",
        "\n",
        "df1 = df1.loc[:, lista_uf]"
      ],
      "execution_count": 32,
      "outputs": []
    },
    {
      "cell_type": "code",
      "metadata": {
        "id": "QBu9eW6hQMg0"
      },
      "source": [
        "# adicionando as linhas dos estados que nao tiveram casos df2\n",
        "for uf in lista_uf:\n",
        "    if uf not in df2.columns:\n",
        "        df2[uf] = [0 for n in range(len(df2))]\n",
        "\n",
        "df2 = df2.loc[:, lista_uf]"
      ],
      "execution_count": 33,
      "outputs": []
    },
    {
      "cell_type": "code",
      "metadata": {
        "id": "mo3a2aytQpFu"
      },
      "source": [
        "# juntando os dois df\n",
        "df3 = df2.set_index('ano').T\n",
        "df4 = df1.set_index('ano').T\n",
        "df5 = pd.merge(df3, df4, left_index=True, right_index=True)\n",
        "df5['2006-01-01'] = df5['2006-01-01_x'] + df5['2006-01-01_y']\n",
        "df5 = df5.drop(['2006-01-01_x', '2006-01-01_y'], axis=1).T.reset_index()\n",
        "df5['ano'] = df5['ano'].astype('datetime64')\n",
        "df5 = df5.set_index('ano').sort_index().reset_index()\n"
      ],
      "execution_count": 34,
      "outputs": []
    },
    {
      "cell_type": "code",
      "metadata": {
        "id": "Y52lBGcZXCtF"
      },
      "source": [
        "# df melt\n",
        "df5_melt = df5.melt(id_vars='ano', var_name='uf', value_name='casos')\n"
      ],
      "execution_count": 53,
      "outputs": []
    },
    {
      "cell_type": "code",
      "metadata": {
        "id": "MmCF9HHFXlZo"
      },
      "source": [
        "# salvando os dados tratados\n",
        "df5.to_csv('casos_fa_pivot.csv')\n",
        "df5_melt.to_csv('casos_fa_melt.csv')\n"
      ],
      "execution_count": 36,
      "outputs": []
    }
  ]
}